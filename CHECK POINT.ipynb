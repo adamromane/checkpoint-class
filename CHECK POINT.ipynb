{
 "cells": [
  {
   "cell_type": "markdown",
   "id": "89810b78",
   "metadata": {},
   "source": []
  },
  {
   "cell_type": "code",
   "execution_count": 33,
   "id": "42060ac4",
   "metadata": {},
   "outputs": [],
   "source": [
    "### ex2\n",
    "class rectangle:\n",
    "    def __init__ (self,l,w):\n",
    "        self.l=l\n",
    "        self.w=w\n",
    "    def area(self):\n",
    "        return self.l*self.w\n",
    "    def perimetre(self):\n",
    "        return 2*(self.l+self.w)\n",
    "    "
   ]
  },
  {
   "cell_type": "code",
   "execution_count": 34,
   "id": "6d019d04",
   "metadata": {},
   "outputs": [],
   "source": [
    "r=rectangle(3,5)"
   ]
  },
  {
   "cell_type": "code",
   "execution_count": 35,
   "id": "e1da91af",
   "metadata": {},
   "outputs": [
    {
     "name": "stdout",
     "output_type": "stream",
     "text": [
      "15\n"
     ]
    }
   ],
   "source": [
    "print(r.area())\n"
   ]
  },
  {
   "cell_type": "code",
   "execution_count": 36,
   "id": "f84bbd4e",
   "metadata": {},
   "outputs": [
    {
     "name": "stdout",
     "output_type": "stream",
     "text": [
      "16\n"
     ]
    }
   ],
   "source": [
    "print(r.perimetre())"
   ]
  },
  {
   "cell_type": "code",
   "execution_count": 8,
   "id": "c695c0b9",
   "metadata": {},
   "outputs": [],
   "source": [
    "#ex1\n",
    "class point3d:\n",
    "    def __init__(self,x,y,z):\n",
    "            self.x=z\n",
    "            self.y=y\n",
    "            self.z=z\n",
    "my_point=point3d(1,2,3)"
   ]
  },
  {
   "cell_type": "code",
   "execution_count": 9,
   "id": "0bee565a",
   "metadata": {},
   "outputs": [
    {
     "data": {
      "text/plain": [
       "<__main__.point3d at 0x20fe53f0d00>"
      ]
     },
     "execution_count": 9,
     "metadata": {},
     "output_type": "execute_result"
    }
   ],
   "source": [
    "my_point"
   ]
  },
  {
   "cell_type": "code",
   "execution_count": 10,
   "id": "a571c050",
   "metadata": {},
   "outputs": [
    {
     "name": "stdout",
     "output_type": "stream",
     "text": [
      "<__main__.point3d object at 0x0000020FE53F0D00>\n"
     ]
    }
   ],
   "source": [
    "print(my_point)"
   ]
  },
  {
   "cell_type": "code",
   "execution_count": 56,
   "id": "2355396a",
   "metadata": {},
   "outputs": [],
   "source": [
    "class cercle:\n",
    "    \n",
    "    def __init__ (self,o,r):\n",
    "        self.o=o\n",
    "        self.r=r\n",
    "    def area(self):\n",
    "        return 3,14*(self.r*self.r)\n",
    "    def perimetre(self):\n",
    "        return 3,14*(self.r+self.r)"
   ]
  },
  {
   "cell_type": "code",
   "execution_count": 57,
   "id": "341b7cab",
   "metadata": {},
   "outputs": [],
   "source": [
    "ci=cercle(2,3)"
   ]
  },
  {
   "cell_type": "code",
   "execution_count": 58,
   "id": "cf6834e9",
   "metadata": {},
   "outputs": [
    {
     "name": "stdout",
     "output_type": "stream",
     "text": [
      "(3, 126)\n"
     ]
    }
   ],
   "source": [
    "print(ci.area())"
   ]
  },
  {
   "cell_type": "code",
   "execution_count": 59,
   "id": "3bb7fc69",
   "metadata": {},
   "outputs": [
    {
     "name": "stdout",
     "output_type": "stream",
     "text": [
      "(3, 84)\n"
     ]
    }
   ],
   "source": [
    "print(ci.perimetre())"
   ]
  },
  {
   "cell_type": "code",
   "execution_count": 63,
   "id": "e4b0d560",
   "metadata": {},
   "outputs": [],
   "source": [
    "#ex4\n",
    "class banque:\n",
    "    def __init__ (self,balance,retrer):  \n",
    "        self.balance=balance\n",
    "        self.retrer=retrer\n",
    "    def sold (self):\n",
    "        return  self.balance - self.retrer"
   ]
  },
  {
   "cell_type": "code",
   "execution_count": 64,
   "id": "72bc686d",
   "metadata": {},
   "outputs": [],
   "source": [
    "b=banque(300,200)"
   ]
  },
  {
   "cell_type": "code",
   "execution_count": 65,
   "id": "e3fa9d38",
   "metadata": {},
   "outputs": [
    {
     "name": "stdout",
     "output_type": "stream",
     "text": [
      "100\n"
     ]
    }
   ],
   "source": [
    "print(b.sold())"
   ]
  },
  {
   "cell_type": "code",
   "execution_count": null,
   "id": "fd128f8c",
   "metadata": {},
   "outputs": [],
   "source": []
  }
 ],
 "metadata": {
  "kernelspec": {
   "display_name": "Python 3",
   "language": "python",
   "name": "python3"
  },
  "language_info": {
   "codemirror_mode": {
    "name": "ipython",
    "version": 3
   },
   "file_extension": ".py",
   "mimetype": "text/x-python",
   "name": "python",
   "nbconvert_exporter": "python",
   "pygments_lexer": "ipython3",
   "version": "3.8.8"
  }
 },
 "nbformat": 4,
 "nbformat_minor": 5
}
